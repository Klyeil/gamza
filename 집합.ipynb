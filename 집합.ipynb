{
  "nbformat": 4,
  "nbformat_minor": 0,
  "metadata": {
    "colab": {
      "provenance": [],
      "authorship_tag": "ABX9TyN+XQvhYYm3vdQr78UDFcoK",
      "include_colab_link": true
    },
    "kernelspec": {
      "name": "python3",
      "display_name": "Python 3"
    },
    "language_info": {
      "name": "python"
    }
  },
  "cells": [
    {
      "cell_type": "markdown",
      "metadata": {
        "id": "view-in-github",
        "colab_type": "text"
      },
      "source": [
        "<a href=\"https://colab.research.google.com/github/Klyeil/gamza/blob/main/%EC%A7%91%ED%95%A9.ipynb\" target=\"_parent\"><img src=\"https://colab.research.google.com/assets/colab-badge.svg\" alt=\"Open In Colab\"/></a>"
      ]
    },
    {
      "cell_type": "code",
      "execution_count": 6,
      "metadata": {
        "colab": {
          "base_uri": "https://localhost:8080/"
        },
        "id": "o_z1ZmfZzSCl",
        "outputId": "0c16ab79-c1f8-4aa2-d846-e4a0ce97853c"
      },
      "outputs": [
        {
          "output_type": "stream",
          "name": "stdout",
          "text": [
            "{1, 2, 3}\n",
            "{2, 3, 4}\n",
            "{2, 3}\n",
            "{1, 2, 3, 4}\n",
            "{1}\n"
          ]
        }
      ],
      "source": [
        "s1 = set([1,2,3])\n",
        "print(s1)\n",
        "s2 = set([2,3,4])\n",
        "print(s2)\n",
        "\n",
        "print(s1 & s2)\n",
        "print(s1 | s2)\n",
        "print(s1 - s2)"
      ]
    },
    {
      "cell_type": "code",
      "source": [
        "bankA_customers = set([\"김철수\", \"이영희\", \"박민수\", \"최지우\"])\n",
        "bankB_customers = set([\"이영희\", \"최지우\", \"정우성\", \"한지민\"])\n",
        "\n",
        "print(\"은행 A 고객 : \", bankA_customers)\n",
        "print(\"은행 B 고객 : \", bankB_customers)\n",
        "\n",
        "total_customers = bankA_customers | bankB_customers\n",
        "print(\"합병 후 전체 고객 : \", total_customers)\n",
        "\n",
        "common_customers = bankA_customers & bankB_customers\n",
        "print(\"공통 고객 : \", common_customers)\n",
        "\n",
        "only_Acustomers = bankA_customers - bankB_customers\n",
        "print(\"A 은행에만 있는 고객 : \", only_Acustomers)\n",
        "\n",
        "only_Bcustomers = bankB_customers - bankA_customers\n",
        "print(\"B 은행에만 있는 고객 : \", only_Bcustomers)"
      ],
      "metadata": {
        "colab": {
          "base_uri": "https://localhost:8080/"
        },
        "id": "fiey8N7c25LN",
        "outputId": "d2aeb8b0-b39c-4fc5-c685-e084fed1451c"
      },
      "execution_count": 7,
      "outputs": [
        {
          "output_type": "stream",
          "name": "stdout",
          "text": [
            "은행 A 고객 :  {'최지우', '김철수', '박민수', '이영희'}\n",
            "은행 B 고객 :  {'최지우', '한지민', '정우성', '이영희'}\n",
            "합병 후 전체 고객 :  {'한지민', '정우성', '이영희', '최지우', '박민수', '김철수'}\n",
            "공통 고객 :  {'최지우', '이영희'}\n",
            "A 은행에만 있는 고객 :  {'김철수', '박민수'}\n",
            "B 은행에만 있는 고객 :  {'정우성', '한지민'}\n"
          ]
        }
      ]
    },
    {
      "cell_type": "code",
      "source": [
        "import numpy as np\n",
        "\n",
        "faber_castell_colors = {\n",
        "    \"White\" : (255,255,255),\n",
        "    \"Black\" : (0,0,0),\n",
        "    \"Brown\" : (150,75,0),\n",
        "    \"Orange\" : (255,127,0),\n",
        "    \"Red\" : (255,0,0),\n",
        "    \"Yellow\" : (255,255,0),\n",
        "    \"Light Green\" : (0,255,0),\n",
        "    \"Green\" : (0,128,0),\n",
        "    \"Light Blue\" : (0,255,255),\n",
        "    \"Blue\" : (0,0,255),\n",
        "    \"Purple\" : (128,0,128),\n",
        "    \"Pink\" : (255,192,203)\n",
        "}\n",
        "\n",
        "input_color = (120,100,200)\n",
        "\n",
        "def find_nearest_color(input_rgb, color_set) :\n",
        "  min_dist = float (\"inf\")\n",
        "  nearest_name = None\n",
        "  for name, rgb in color_set.items() :\n",
        "    dist = np.sqrt(sum((a-b) ** 2 for a,b in zip(input_rgb, rgb)))\n",
        "    if dist < min_dist :\n",
        "      min_dist = dist\n",
        "      nearest_name = name\n",
        "    return nearest_name, color_set[nearest_name]\n",
        "\n",
        "nearest_name, nearest_rgb = find_nearest_color(input_color, faber_castell_colors)\n",
        "\n",
        "print(f\"입력 색상 : {input_color}\")\n",
        "print(f\"가장 가까운 파버카스텔 색상 : {nearest_name}, RGB : {nearest_rgb}\")"
      ],
      "metadata": {
        "colab": {
          "base_uri": "https://localhost:8080/"
        },
        "id": "OwSH_dHU2xRj",
        "outputId": "7f8aaf7e-d6e4-464a-9ab9-a55be28896ca"
      },
      "execution_count": 9,
      "outputs": [
        {
          "output_type": "stream",
          "name": "stdout",
          "text": [
            "입력 색상 : (120, 100, 200)\n",
            "가장 가까운 파버카스텔 색상 : White, RGB : (255, 255, 255)\n"
          ]
        }
      ]
    },
    {
      "cell_type": "code",
      "source": [],
      "metadata": {
        "id": "-wSdjAXk1OCH"
      },
      "execution_count": null,
      "outputs": []
    }
  ]
}