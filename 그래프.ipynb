{
  "nbformat": 4,
  "nbformat_minor": 0,
  "metadata": {
    "colab": {
      "provenance": [],
      "authorship_tag": "ABX9TyMPwyzZD+3G8UOL4qGkPTUn",
      "include_colab_link": true
    },
    "kernelspec": {
      "name": "python3",
      "display_name": "Python 3"
    },
    "language_info": {
      "name": "python"
    }
  },
  "cells": [
    {
      "cell_type": "markdown",
      "metadata": {
        "id": "view-in-github",
        "colab_type": "text"
      },
      "source": [
        "<a href=\"https://colab.research.google.com/github/Klyeil/gamza/blob/main/%EA%B7%B8%EB%9E%98%ED%94%84.ipynb\" target=\"_parent\"><img src=\"https://colab.research.google.com/assets/colab-badge.svg\" alt=\"Open In Colab\"/></a>"
      ]
    },
    {
      "cell_type": "code",
      "execution_count": 14,
      "metadata": {
        "colab": {
          "base_uri": "https://localhost:8080/"
        },
        "id": "-g19o4cOLhwy",
        "outputId": "dda894e3-31da-4690-c4ca-f08c682e58d1"
      },
      "outputs": [
        {
          "output_type": "stream",
          "name": "stdout",
          "text": [
            "DFS 탐색 순서:\n",
            "Alice Bob David Eve Frank Charlie \n",
            "BFS 탐색 순서 :\n",
            "Alice Bob Charlie David Eve Frank \n",
            "Alice의 친구 추천 (2단계):\n",
            "- David\n",
            "- Eve\n",
            "- Frank\n"
          ]
        }
      ],
      "source": [
        "from collections import deque\n",
        "\n",
        "graph = {\n",
        "'Alice': ['Bob', 'Charlie'],\n",
        "'Bob': ['David', 'Eve'],\n",
        "'Charlie': ['Frank'],\n",
        "'David': [],\n",
        "'Eve': ['Frank'],\n",
        "'Frank': []\n",
        "}\n",
        "\n",
        "def dfs(graph, v, visited) :\n",
        "  visited. add(v)\n",
        "  print (v, end=' ')\n",
        "  for neighbor in graph[v]:\n",
        "    if neighbor not in visited:\n",
        "      dfs(graph, neighbor, visited)\n",
        "\n",
        "print (\"DFS 탐색 순서:\")\n",
        "dfs(graph, 'Alice' , set ())\n",
        "\n",
        "def bfs(graph, start):\n",
        "  visited = set()\n",
        "  queue = deque([start])\n",
        "  visited. add(start)\n",
        "  while queue:\n",
        "    v = queue.popleft()\n",
        "    print(v, end=' ')\n",
        "    for neighbor in graph[v]:\n",
        "      if neighbor not in visited:\n",
        "        visited.add(neighbor)\n",
        "        queue.append(neighbor)\n",
        "\n",
        "print(\"\\nBFS 탐색 순서 :\")\n",
        "bfs(graph, 'Alice')\n",
        "\n",
        "def recommend_friend(graph, start):\n",
        "  visited = set()\n",
        "  queue = deque([(start, 0)])\n",
        "  print(f\"\\n{start}의 친구 추천 (2단계):\")\n",
        "  while queue:\n",
        "    current, depth = queue.popleft()\n",
        "    if current not in visited:\n",
        "      visited.add(current)\n",
        "      if depth == 2:\n",
        "        print(\"-\", current)\n",
        "      if depth < 2:\n",
        "        for neighbor in graph[current]:\n",
        "          queue.append((neighbor, depth + 1))\n",
        "\n",
        "\n",
        "recommend_friend(graph, 'Alice')"
      ]
    }
  ]
}